{
 "cells": [
  {
   "cell_type": "markdown",
   "id": "b289d03a",
   "metadata": {},
   "source": [
    "# Eksakte og ineksakte differensialer\n",
    "\n",
    "---"
   ]
  },
  {
   "cell_type": "markdown",
   "id": "472600a0",
   "metadata": {},
   "source": [
    "# Motivasjon: nettodistanse og tilbakelagt distanse\n",
    "\n",
    "Hvor langt er det egentlig hjemmefra ($\\mathbf{x}_H$) og til Blindern ($\\mathbf{x}_B)$? Spørsmålet kan ulike svar avhengig av hvordan vi betrakter det. Ett mulig svar finner vi ved å finne frem et kart og måle distansen i luftlinje:\n",
    "\n",
    "$$\n",
    "\\Delta x_{H-B} = \\vert \\vert \\mathbf{x}_H - \\mathbf{x}_B \\vert \\vert = \\sqrt{(x_H - x_B)^2 + (y_H - y_B)^2}.\n",
    "$$\n",
    "\n",
    "I realiteten opplever du imidlertid kanskje heller at du må reise kollektivt, og dermed innom en rekke knutepunkter, slik at den tilbakelagte distansen blir ganske mye lenger enn hva du finner i ren luftlinje. \n",
    "\n",
    "En måte å angi forskjellen på disse måtene å betrakte distanse på er å si at luftlinjen er *vei-uavhengig*, mens den tilbakelagte distanse er *vei-avhengig*. Som integraler kan vi betrakte en distanse som enten\n",
    "\n",
    "$$\n",
    "\\Delta x_{H-B} = \\int_{H}^B d\\mathbf{x}, \\tag{vei-uavhengig}\n",
    "$$\n",
    "\n",
    "eller\n",
    "\n",
    "$$\n",
    "\\Delta x_{H-B} = \\int_{H}^B \\sqrt{d\\mathbf{x}^2}, \\tag{vei-avhengig}\n",
    "$$\n",
    "\n",
    "Det eneste som skiller de to uttrykkene over er formen på differensialet, og vi kan derfor velge å benytte en notasjon som skiller disse tilfellene. Vei-uavhengige differensialer kalles derfor ofte *eksakte* differensialer, og angis på formen $dX$, mens vei-avhengige differensialer kalles *ineksakte* og angis på formen $\\delta X$.\n",
    "\n",
    "Skillet mellom slike differensialer er sentralt for flere størrelser du møter i termodynamikk."
   ]
  },
  {
   "cell_type": "markdown",
   "id": "f20448f4",
   "metadata": {},
   "source": [
    "| tilfelle  | differensial  | notasjon  | eksempel |\n",
    "| ---  | ---  | ---  | ---  | \n",
    "| vei-uavhengig  | eksakt  | $dX$  | energi (U), entropi (S), entalpi (H)   | \n",
    "| vei-avhengig  | ineksakt  | $\\delta X$  | varme (Q), arbeid (W) |\n",
    "\n"
   ]
  },
  {
   "cell_type": "markdown",
   "id": "36d4bb3d",
   "metadata": {},
   "source": [
    "```{admonition} Diskuter\n",
    "Forestill deg at du støter på et integral hvor integranden $f(x,y,z)$ er oppgitt med enten eksakt eller ineksakt differensial. Hva vil du helst støte på i oppgaven? Spiller det noen betydning? Eventuelt hvorfor?\n",
    "```"
   ]
  },
  {
   "cell_type": "markdown",
   "id": "7281818b",
   "metadata": {},
   "source": [
    "# Matematisk grunnlag\n",
    "\n",
    "Vi kaller generelt uttrykk på formen\n",
    "\n",
    "$$\n",
    "dR = M_1(x_1, x_2, ..., x_N) dx_1 + \n",
    "M_2(x_1, x_2, ..., x_N) dx_2 + \n",
    "...\n",
    "M_N(x_1, x_2, ..., x_N) dx_N,\n",
    "$$\n",
    "\n",
    "for *lineære differensialer*. Med to variabler $x,y$ har vi for eksempel\n",
    "\n",
    "$$\n",
    "dR = M_1(x,y)dx + M_2(x,y)dy.\n",
    "$$\n",
    "\n",
    "Dersom \n",
    "\n",
    "$$\n",
    "\\frac{\\partial}{\\partial y} M_1(x,y) = \\frac{\\partial}{\\partial x} M_2(x,y),\n",
    "$$\n",
    "\n",
    "så er differensialet eksakt, og det vil finnes en funksjon $F(x,y)$ slik at\n",
    "\n",
    "$$\n",
    "M_1 = \\frac{\\partial}{\\partial x} F(x,y) \n",
    "$$\n",
    "\n",
    "og\n",
    "\n",
    "$$\n",
    "M_2 = \\frac{\\partial}{\\partial y} F(x,y).\n",
    "$$\n",
    "\n",
    "Dette betyr naturligvis også at dersom \n",
    "\n",
    "$$\n",
    "\\frac{\\partial}{\\partial y} M_1(x,y) \\neq \\frac{\\partial}{\\partial x} M_2(x,y),\n",
    "$$\n",
    "\n",
    "så er $dR$ et *ineksakt* differensial."
   ]
  },
  {
   "cell_type": "markdown",
   "id": "1eca9364",
   "metadata": {},
   "source": [
    "```{admonition} Prøv selv\n",
    "Er \n",
    "\n",
    "$$\n",
    "dP = \\Big{(} -\\frac{nRT}{V^2} \\Big{)} dV + \\Big{(} \\frac{nR}{V} \\Big{)} dT\n",
    "$$\n",
    "\n",
    "et eksakt eller ineksakt differensial?\n",
    "```"
   ]
  },
  {
   "cell_type": "markdown",
   "id": "d677bb1d",
   "metadata": {},
   "source": [
    "# Hvorfor er dette nyttig å kunne?\n",
    "\n",
    "Forestill deg at du skal regne ut et integral\n",
    "\n",
    "$$\n",
    "\\Delta U_{AB} = \\int_A^B dU \n",
    "$$\n",
    "\n",
    "hvor U er en tilstandsfunksjon (hver U svarer til en makrotilstand). For eksakte differensialer gjelder det at\n",
    "\n",
    "$$\n",
    "\\int_A^B dU = U_B - U_A,\n",
    "$$\n",
    "\n",
    "ettersom det er vei-uavhengig, så du trenger kun å evaluere funksjonen $U$ i integralgrensene."
   ]
  },
  {
   "cell_type": "markdown",
   "id": "02f2a2eb",
   "metadata": {},
   "source": [
    "```{admonition} Prøv selv\n",
    "Avgjør hvorvidt følgende differensialer er eksakte:\n",
    "\n",
    "$$\n",
    "\\frac{dx}{x^2y} + \\frac{dy}{xy^2} \\tag{a}\n",
    "$$\n",
    "\n",
    "$$\n",
    "\\frac{dx}{xy^2} + \\frac{dy}{x^2y} \\tag{b}\n",
    "$$\n",
    "\n",
    "$$\n",
    "2x^2y dx + x^3 dy \\tag{c}\n",
    "$$\n",
    "\n",
    "$$\n",
    "\\ln(y)dx + \\frac{x}{y}dy \\tag{d}\n",
    "$$\n",
    "\n",
    "\n",
    "```"
   ]
  }
 ],
 "metadata": {
  "kernelspec": {
   "display_name": "Python 3 (ipykernel)",
   "language": "python",
   "name": "python3"
  },
  "language_info": {
   "codemirror_mode": {
    "name": "ipython",
    "version": 3
   },
   "file_extension": ".py",
   "mimetype": "text/x-python",
   "name": "python",
   "nbconvert_exporter": "python",
   "pygments_lexer": "ipython3",
   "version": "3.10.6"
  }
 },
 "nbformat": 4,
 "nbformat_minor": 5
}
