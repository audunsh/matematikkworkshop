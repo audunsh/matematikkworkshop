{
 "cells": [
  {
   "cell_type": "markdown",
   "id": "7512c36b",
   "metadata": {},
   "source": [
    "# Motivasjon\n",
    "\n",
    "---"
   ]
  },
  {
   "cell_type": "markdown",
   "id": "1c77ae11",
   "metadata": {},
   "source": [
    "Du vil møte uttrykk på formen\n",
    "\n",
    "$$\n",
    "dU = \\delta Q + \\delta W \\quad (\\text{1. lov})\n",
    "$$\n",
    "\n",
    "$$\n",
    "dS = \\frac{\\delta Q_\\text{rev}}{T}  \\quad (\\text{entropi})\n",
    "$$\n",
    "\n",
    "$$\n",
    "\\Delta H = ...\n",
    "$$\n",
    "\n",
    "$$\n",
    "\\nabla F(x,y) = \\Big{(} \\frac{\\partial F}{\\partial x} \\Big{)}_y + \\Big{(} \\frac{\\partial F}{\\partial y} \\Big{)}_x\n",
    "$$\n",
    "\n",
    "Hva er egentlig forskjellen på $d$, $\\delta$, $\\Delta$, $\\partial$ og $\\nabla$? Og hva er hensikten med å skille disse? Dette er tema for dagens workshop, og vi vil i tillegg se litt på fordelingsfunksjoner. "
   ]
  },
  {
   "cell_type": "markdown",
   "id": "fc7a31d0",
   "metadata": {},
   "source": [
    "```{admonition} Diskuter\n",
    "- Har du sett noen av uttrykkene over før? Hvor?\n",
    "- Hvordan vil du lese utrykkene over med rene ord? Forklar for de andre på gruppa.\n",
    "```"
   ]
  },
  {
   "cell_type": "code",
   "execution_count": null,
   "id": "e6332de7",
   "metadata": {},
   "outputs": [],
   "source": []
  }
 ],
 "metadata": {
  "kernelspec": {
   "display_name": "Python 3 (ipykernel)",
   "language": "python",
   "name": "python3"
  },
  "language_info": {
   "codemirror_mode": {
    "name": "ipython",
    "version": 3
   },
   "file_extension": ".py",
   "mimetype": "text/x-python",
   "name": "python",
   "nbconvert_exporter": "python",
   "pygments_lexer": "ipython3",
   "version": "3.10.6"
  }
 },
 "nbformat": 4,
 "nbformat_minor": 5
}
