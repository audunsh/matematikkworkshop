{
 "cells": [
  {
   "cell_type": "markdown",
   "id": "4b1f5bfb",
   "metadata": {},
   "source": [
    "# Interlude - Riemann-summer"
   ]
  },
  {
   "cell_type": "markdown",
   "id": "cadd5e33",
   "metadata": {},
   "source": [
    "En Riemann-sum kan ansees som en approksimasjon på et integral:\n",
    "\n",
    "$$\n",
    "\\sum_{i=0}^{a+i\\Delta x=b} f(a + i\\Delta x) \\Delta x \\approx \\int_a^b f(x) dx.\n",
    "$$\n",
    "\n",
    "Fra et numerisk perspektiv innebærer dette en diskretisering av rommet, ettersom vi kun betrakter diskrete verdier for $x \\rightarrow x_i$. \n",
    "\n",
    "Dette bør ikke være ukjent, for du er vant til å regne diskrete gjennomsnitt:\n",
    "\n",
    "$$\n",
    "\\bar{x} := \\frac{1}{N} \\sum_{i=1}^{N} x_i,\n",
    "$$\n",
    "\n",
    "diskret varians (og standardavvik):\n",
    "\n",
    "$$\n",
    "\\sigma^2 := \\frac{1}{N-1} \\sum_{i=1}^{N} (x_i-\\bar{x})^2,\n",
    "$$\n",
    "\n",
    "og forventningsverdier:\n",
    "\n",
    "$$\n",
    "\\bar{E} := \\frac{1}{N} \\sum_{i=1}^{N} E_i n_i,\n",
    "$$\n",
    "\n",
    "hvor $n_i$ er antallet målinger med verdien $E_i$.\n"
   ]
  },
  {
   "cell_type": "markdown",
   "id": "a00d575e",
   "metadata": {},
   "source": [
    "```{admonition} Diskuter\n",
    "Selv om du sikkert kjenner disse størrelsene godt, er det muligens uvant å se de omtalt som *diskrete*. Hva menes med *diskret* i dette tilfellet? Hva ville vært den *kontinuerlige* motsatsen?\n",
    "```"
   ]
  },
  {
   "cell_type": "markdown",
   "id": "e948c8dc",
   "metadata": {},
   "source": [
    "# Fra eksperiment til teori og tilbake igjen\n",
    "\n",
    "I et typisk laboratorieekseperiment kan vi ikke gjøre uendelig mange målinger (<a href=\"https://github.com/audunsh/Notater-om-signifikans/blob/master/signotes.pdf\">se her for mer info</a>). Om vi for eksempel måler høyden på verdens 20-åringer, men ikke har mulighet å måle alle, kan vi presentere resultatene i et histogram:"
   ]
  },
  {
   "cell_type": "code",
   "execution_count": 8,
   "id": "2877aa4d",
   "metadata": {},
   "outputs": [
    {
     "data": {
      "text/plain": [
       "(array([   3.,   10.,   27.,  142.,  433.,  918., 1574., 2100., 1973.,\n",
       "        1492.,  852.,  326.,  117.,   29.,    4.]),\n",
       " array([127.92564575, 133.25225529, 138.57886483, 143.90547437,\n",
       "        149.23208391, 154.55869345, 159.88530299, 165.21191253,\n",
       "        170.53852207, 175.86513161, 181.19174115, 186.51835069,\n",
       "        191.84496023, 197.17156976, 202.4981793 , 207.82478884]),\n",
       " <BarContainer object of 15 artists>)"
      ]
     },
     "execution_count": 8,
     "metadata": {},
     "output_type": "execute_result"
    },
    {
     "data": {
      "image/png": "[encoded data removed]",
      "text/plain": [
       "<Figure size 640x480 with 1 Axes>"
      ]
     },
     "metadata": {},
     "output_type": "display_data"
    }
   ],
   "source": [
    "import numpy as np\n",
    "import matplotlib.pyplot as plt\n",
    "\n",
    "height_distribution = np.random.normal(170, 10, 10000 ) \n",
    "\n",
    "plt.hist(height_distribution,bins = 15)"
   ]
  },
  {
   "cell_type": "markdown",
   "id": "0c14857d",
   "metadata": {},
   "source": [
    "Hvordan omdanner vi denne empiriske kunnskapen til en prediksjon om neste måling? Altså; neste gang du måler høyden til en person - hva er sannsynligheten for at vedkommende er for eksempel mellom 160 og 180 cm høy?\n",
    "\n",
    "For å gjøre dette må vi omdanne histogrammet til en normalisert sannsynlighetsfordeling, enten ved å normalisere histogrammet slik at summen over alle søylene blir 1, eller ved å tilpasse målingene til en generell normalfordeling og derette bruke denne som prediksjon.\n",
    "\n",
    "```{admonition} Diskuter\n",
    "Når vi går fra eksperiment til teori er transformasjonen fra diskret til kontinuerlig. Hvordan tror du det er den andre veien (fra teori til eksperiment)? \n",
    "```"
   ]
  },
  {
   "cell_type": "markdown",
   "id": "d1e9e4a0",
   "metadata": {},
   "source": [
    "# Fordelingsfunksjoner\n",
    "\n",
    "Fordelingsfunksjoner er matematiske, kontinuerlige funksjoner som angir sannsynligheten for ulike utfall av eksperimenter. Med eksperiment menes her utfallet av en måling, test eller lignende. Noen eksempler på fordelingsfunksjoner kan være:\n",
    "\n",
    "- En tabell over mulige utfall av et terningkast.\n",
    "- Et histogram over en aldersfordeling.\n",
    "- Kvadratet av en atomær orbital.\n",
    "- En kontinuerlig hastighetsfordeling for pollenfrø i en væske.\n",
    "\n",
    "En sannsynlighet P er et tall, som regel mellom 0 og 1:\n",
    "- At $P(A)=0$ innebærer at sannsynligheten for at $A$ inntreffer er 0.\n",
    "- At $P(B)=1$ innebærer at sannsynligheten for at $B$ inntreffer er 1.\n",
    "- Når $P(C) \\in (0,1)$ betyr det at $C$ inntreffer med en viss sannsynlighet.\n",
    "\n",
    "```{admonition} Diskuter\n",
    "Hva er sannsynlighetsfordelingen for summen av to terningkast? Skriv ned og forklar.\n",
    "```"
   ]
  },
  {
   "cell_type": "markdown",
   "id": "b1ba2601",
   "metadata": {},
   "source": [
    "# Forventningsverdier\n",
    "\n",
    "Gjennomsnitt og lignende størrelser er det vi generelt kalles *forventningsverdier*, og fra en kontinuerlig fordeling regnes de på formen:\n",
    "\n",
    "$$\n",
    "\\langle X \\rangle := \\int_{-\\infty}^{\\infty} X P(X)\n",
    "$$\n",
    "\n"
   ]
  },
  {
   "cell_type": "code",
   "execution_count": null,
   "id": "9d28cfcd",
   "metadata": {},
   "outputs": [],
   "source": []
  }
 ],
 "metadata": {
  "kernelspec": {
   "display_name": "Python 3 (ipykernel)",
   "language": "python",
   "name": "python3"
  },
  "language_info": {
   "codemirror_mode": {
    "name": "ipython",
    "version": 3
   },
   "file_extension": ".py",
   "mimetype": "text/x-python",
   "name": "python",
   "nbconvert_exporter": "python",
   "pygments_lexer": "ipython3",
   "version": "3.10.6"
  }
 },
 "nbformat": 4,
 "nbformat_minor": 5
}
