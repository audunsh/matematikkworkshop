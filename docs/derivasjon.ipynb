{
 "cells": [
  {
   "cell_type": "markdown",
   "id": "8bc57d2a",
   "metadata": {},
   "source": [
    "# Den deriverte : endring\n",
    "\n",
    "---\n"
   ]
  },
  {
   "cell_type": "markdown",
   "id": "2a698c8a",
   "metadata": {},
   "source": [
    "Du kjenner sannsynligvis derivasjon som følgende operasjon\n",
    "\n",
    "$$ \\frac{d}{dx} f(x) := \\lim_{\\Delta x \\rightarrow 0} \\frac{f(x + \\Delta x) - f(x)}{\\Delta x}.$$\n",
    "\n",
    "Det finnes flere ekvivalente skrivemåter:\n",
    "\n",
    "$$ \\frac{d}{dx}f(x) = f'(x) = \\dot{f}(x).$$\n",
    "\n",
    "Vi fortolker typisk den deriverte av en funksjon som *endringsraten* i verdien $f(x)$, som følge av en liten endring i variabelen $x$.\n"
   ]
  },
  {
   "cell_type": "markdown",
   "id": "f3b0c529",
   "metadata": {},
   "source": [
    "# Eksempel: numerisk derivasjon"
   ]
  },
  {
   "cell_type": "code",
   "execution_count": 1,
   "id": "fc571a38",
   "metadata": {},
   "outputs": [],
   "source": [
    "import numpy as np\n",
    "import matplotlib.pyplot as plt\n",
    "\n",
    "def numdiff_vis_forward(x0, dx, method = 0):\n",
    "    \"\"\"\n",
    "    Interactive example of forward difference\n",
    "    \"\"\"\n",
    "    \n",
    "    # define some x values\n",
    "    x = np.linspace(0,2*np.pi, 100)\n",
    "    \n",
    "    # A function and it's exact derivative\n",
    "    f = lambda x : -x*(x-2*np.pi)  # f(x)\n",
    "    \n",
    "    df = lambda x : -2*x + 2*np.pi # f'(x)\n",
    "    \n",
    "    \n",
    "    # create a figure, plot results\n",
    "    plt.figure(1, figsize = (10,7))\n",
    "    \n",
    "    plt.plot(x,f(x), \"-\", label = \"f(x)\") #plot function\n",
    "    \n",
    "    \n",
    "    \n",
    "    \n",
    "    plt.title(\"Numerical derivative (Newton's difference quotient)\")\n",
    "    plt.xlabel(\"x\") #merk x-aksen\n",
    "    \n",
    "\n",
    "    \n",
    "    \n",
    "    plt.plot(x,df(x0)*(x-x0) + f(x0), \"--\", label = \"$tangent(f(x_0))$ (exact)\")\n",
    "    \n",
    "    if method==2:\n",
    "        df_dx = (f(x0+dx)-f(x0))/dx # Compute D^+ f(x0)\n",
    "        lab = \"$f(x_0) + (x-x_0) D^+ f(x_0)$\"\n",
    "        plt.plot(x0, f(x0), \"o\", color = (0,0,0))\n",
    "        plt.plot(x0+dx, f(x0+dx), \"o\", color = (0,0,0))\n",
    "        plt.fill_between([x0,x0+dx], [0,0], [12,12], color = (.3,.6,1), alpha = .1)\n",
    "        \n",
    "        plt.plot(x,df_dx*(x-x0) + f(x0), label = lab) #plot Tangent in f(x0)\n",
    "        \n",
    "    if method==1:\n",
    "        df_dx = (f(x0+.5*dx)-f(x0-.5*dx))/dx # Compute D f(x0)\n",
    "        lab = \"$f(x_0) + (x-x_0) D f(x_0)$\"\n",
    "        \n",
    "        plt.plot(x0+.5*dx, f(x0+.5*dx), \"o\", color = (0,0,0))\n",
    "        plt.plot(x0-.5*dx, f(x0-.5*dx), \"o\", color = (0,0,0))\n",
    "        plt.fill_between([x0-.5*dx,x0+.5*dx], [0,0], [12,12], color = (.3,.6,1), alpha = .1)\n",
    "        \n",
    "        plt.plot(x,df_dx*(x-x0) + f(x0), label = lab) #plot Tangent in f(x0)\n",
    "        \n",
    "    if method==0:\n",
    "        df_dx = (f(x0)-f(x0-dx))/dx # Compute D^- f(x0)\n",
    "        lab = \"$f(x_0) + (x-x_0) D^- f(x_0)$\"\n",
    "        \n",
    "        plt.plot(x0, f(x0), \"o\", color = (0,0,0))\n",
    "        plt.plot(x0-dx, f(x0-dx), \"o\", color = (0,0,0))\n",
    "        plt.fill_between([x0-dx,x0], [0,0], [12,12], color = (.3,.6,1), alpha = .1)\n",
    "        \n",
    "        plt.plot(x,df_dx*(x-x0) + f(x0), label = lab) #plot Tangent in f(x0)\n",
    "        \n",
    "        \n",
    "    \n",
    "    \n",
    "    \n",
    "    \n",
    "    \n",
    "    plt.text(x0+dx/2.0, 4, \"$\\Delta x$\", ha=\"center\")\n",
    "    plt.text(x0, f(x0)+.2, \"$x_0$\")\n",
    "    \n",
    "    plt.legend()\n",
    "    plt.ylim(0,np.pi**2 +1)\n",
    "    plt.xlim(0,2*np.pi)\n",
    "    plt.show()"
   ]
  },
  {
   "cell_type": "code",
   "execution_count": 2,
   "id": "55781062",
   "metadata": {},
   "outputs": [
    {
     "data": {
      "application/vnd.jupyter.widget-view+json": {
       "model_id": "ea8076c70da0402ba7dcf9a419cf5c9c",
       "version_major": 2,
       "version_minor": 0
      },
      "text/plain": [
       "interactive(children=(FloatSlider(value=3.141, description='x0', max=6.283185307179586, step=0.001), FloatSlid…"
      ]
     },
     "metadata": {},
     "output_type": "display_data"
    }
   ],
   "source": [
    "from ipywidgets import interact, interactive\n",
    "from IPython.display import display\n",
    "\n",
    "y = interactive(numdiff_vis_forward, x0 = (0,2*np.pi,.001), dx = (0.001, 1, 0.001), method = (0,2,1)) \n",
    "display(y)"
   ]
  },
  {
   "cell_type": "markdown",
   "id": "a9f8e83c",
   "metadata": {},
   "source": [
    "```{admonition} Diskusjon\n",
    "- Hva er en passende verdi for ∆x? Kan du se en generell trend?\n",
    "- Forandre funksjonen og dens deriverte. Fungerer de ulike diskrete differensialene like godt for andre funksjoner?\n",
    "```"
   ]
  },
  {
   "cell_type": "markdown",
   "id": "bfee37bd",
   "metadata": {},
   "source": [
    "# Flervariable funksjoner\n",
    "\n",
    "Funksjoner kan imidlertid ha flere variabler\n",
    "\n",
    "$$\n",
    "F(x_1, x_2, x_3, ...) .\n",
    "$$\n",
    "\n",
    "Endringen $dF$ i $F$ som følge av en liten endring i variablene $x_1, x_2, x_3, ...$ vil nå være en funksjon av hver av variablene:\n",
    "\n",
    "$$\n",
    "dF = \n",
    "\\Big{(} \\frac{\\partial F}{\\partial x_1}  \\Big{)}_{\\{x_2, x_3, ...\\}} dx_1+ \n",
    "\\Big{(} \\frac{\\partial F}{\\partial x_2}  \\Big{)}_{\\{x_1, x_3, ...\\}} dx_2+\n",
    "\\Big{(} \\frac{\\partial F}{\\partial x_3}  \\Big{)}_{\\{x_1, x_2, ...\\}} dx_3+\n",
    "$$\n",
    "\n",
    "Hvor $\\frac{\\partial}{\\partial x} $ er en såkalt partiell derivert. Hensikten med notasjonen er nå å minne oss om at funksjonen er flervariabel, og subindeksene viser hvilke variabler som ikke blir variert.\n"
   ]
  },
  {
   "cell_type": "markdown",
   "id": "3588d48b",
   "metadata": {},
   "source": [
    "```{admonition} Diskusjon\n",
    "- Subindeksene $\\{x_2, x_3, ...\\}$ er i grunn unødvendige her, kan du se hvorfor? \n",
    "- Den formelle beskrivelsen av *en liten endring* er en *infinitesimal*. Hva er forskjellen på en infinitesimal endring og en liten endring?\n",
    "```"
   ]
  },
  {
   "cell_type": "markdown",
   "id": "b2f31120",
   "metadata": {},
   "source": [
    "## Eksempel i 2 dimensjoner\n",
    "\n",
    "\n",
    "I det todimensjonale tilfellet har vi\n",
    "\n",
    "$$\n",
    "F := F(x,y)\n",
    "$$\n",
    "\n",
    "og \n",
    "\n",
    "$$\n",
    "dF = \n",
    "\\Big{(} \\frac{\\partial F}{\\partial x}  \\Big{)}_{y} dx+ \n",
    "\\Big{(} \\frac{\\partial F}{\\partial y}  \\Big{)}_{x} dy\n",
    "$$\n",
    "\n",
    "---\n",
    "\n",
    "For funksjonen \n",
    "\n",
    "$$\n",
    "F(x,y) = \\sin(x) y\n",
    "$$\n",
    "\n",
    "så er \n",
    "\n",
    "$$\n",
    "dF = \n",
    "\\Big{(} \\frac{\\partial \\sin(x) y}{\\partial x}  \\Big{)}_{y} dx + \n",
    "\\Big{(} \\frac{\\partial \\sin(x) y}{\\partial y}  \\Big{)}_{x} dy =\n",
    "\\Big{(} y\\cos(x)  \\Big{)}_{y} dx + \n",
    "\\Big{(} \\sin(x) \\Big{)}_{x} dy.\n",
    "$$"
   ]
  },
  {
   "cell_type": "markdown",
   "id": "e675cccd",
   "metadata": {},
   "source": [
    "```{admonition} Prøv selv\n",
    "Vi betrakter funksjonen\n",
    "\n",
    "$$\n",
    "P(n,V,T) = \\frac{nRT}{V}\n",
    "$$\n",
    "\n",
    "Bestem $dP$.\n",
    "```"
   ]
  },
  {
   "cell_type": "markdown",
   "id": "754fe3d6",
   "metadata": {},
   "source": [
    "# Krise! Jeg kan ikke derivere!\n",
    "\n",
    "Om du ikke greier å derivere funksjonen du har foran deg har du flere muligheter\n",
    "1. Slå opp i Rottmans formelsamling.\n",
    "2. Spør <a href=\"https://www.wolframalpha.com/input?i=derivative+of+x%5E4+sin+x\">Wolfram Alpha</a>.\n",
    "3. Bruk <a href=\"https://www.sympy.org/en/index.html\">Sympy</a> (på JupyterHub)"
   ]
  },
  {
   "cell_type": "markdown",
   "id": "1547c081",
   "metadata": {},
   "source": [
    "# Derivasjon med Sympy"
   ]
  },
  {
   "cell_type": "code",
   "execution_count": 3,
   "id": "9bfb391c",
   "metadata": {},
   "outputs": [],
   "source": [
    "import sympy as sp"
   ]
  },
  {
   "cell_type": "code",
   "execution_count": 8,
   "id": "6b3af161",
   "metadata": {},
   "outputs": [
    {
     "data": {
      "text/latex": [
       "$\\displaystyle 2 dx x y \\sin{\\left(z \\right)} + dy \\left(x^{2} \\sin{\\left(z \\right)} - 0.5 z\\right) + dz y \\left(x^{2} \\cos{\\left(z \\right)} - 0.5\\right)$"
      ],
      "text/plain": [
       "2*dx*x*y*sin(z) + dy*(x**2*sin(z) - 0.5*z) + dz*y*(x**2*cos(z) - 0.5)"
      ]
     },
     "execution_count": 8,
     "metadata": {},
     "output_type": "execute_result"
    }
   ],
   "source": [
    "x,y,z = sp.symbols(\"x y z\") # lag variablene dine\n",
    "dx,dy,dz = sp.symbols(\"dx dy dz\") # lag differensialene i et ortogonalt kartesisk koordinatsystem\n",
    "\n",
    "F = y*(x**2*sp.sin(z) - .5*z) # lag funksjonsuttrykket\n",
    "\n",
    "df_dx = sp.diff(F, x, order = 1) # deriver en gang med hensyn på x\n",
    "df_dy = sp.diff(F, y, order = 1) # deriver en gang med hensyn på y\n",
    "df_dz = sp.diff(F, z, order = 1) # deriver en gang med hensyn på z\n",
    "\n",
    "dF = df_dx*dx + df_dy*dy + df_dz*dz # lat totaldifferensialet\n",
    "dF #vis til skjermen"
   ]
  },
  {
   "cell_type": "markdown",
   "id": "7d68faed",
   "metadata": {},
   "source": [
    "# Nyttige relasjoner for $\\partial$-operatoren\n",
    "\n",
    "Det kan være greit å vite at rekkefølgen for hvordan du anvender $\\partial$-operatoren er uten betydning, altså er for eksempel\n",
    "\n",
    "$$\n",
    "\\Big{[}  \\frac{\\partial}{\\partial y} \\Big{(}  \\frac{\\partial F}{\\partial x} \\Big{)}_y  \\Big{]}_x =\n",
    "\\Big{[}  \\frac{\\partial}{\\partial x} \\Big{(}  \\frac{\\partial F}{\\partial y} \\Big{)}_x  \\Big{]}_y,\n",
    "$$\n",
    "\n",
    "slik at\n",
    "\n",
    "$$\n",
    "\\frac{\\partial^2}{\\partial x \\partial y} F(x,y) = \\frac{\\partial^2}{\\partial y \\partial x} F(x,y)\n",
    "$$\n",
    "\n",
    "Andre nyttige relasjoner er\n",
    "\n",
    "$$\n",
    "\\Big{(} \\frac{\\partial f}{\\partial y} \\Big{)}_x = \\frac{1}{ \\Big{(} \\frac{\\partial y}{\\partial f} \\Big{)}_x } \\tag{den inverse}\n",
    "$$\n",
    "\n",
    "og \n",
    "\n",
    "$$\n",
    "\\Big{(} \\frac{\\partial f}{\\partial x} \\Big{)}_y \n",
    "\\Big{(} \\frac{\\partial y}{\\partial f} \\Big{)}_x\n",
    "\\Big{(} \\frac{\\partial x}{\\partial y} \\Big{)}_f =\n",
    "-1\n",
    "\\tag{syklisk regel}\n",
    "$$"
   ]
  },
  {
   "cell_type": "markdown",
   "id": "6e29e320",
   "metadata": {},
   "source": [
    "```{admonition} Prøv selv\n",
    "Bruk den sykliske regelen og definisjonene\n",
    "\n",
    "$$\n",
    "\\alpha = \\frac{1}{V} \\Big{(} \\frac{\\partial V}{\\partial T}Big{)}_P \\tag{a}\n",
    "$$\n",
    "\n",
    "og\n",
    "\n",
    "$$\n",
    "\\beta = -\\frac{1}{V} \\Big{(} \\frac{\\partial V}{\\partial P}Big{)}_T \\tag{b}\n",
    "$$\n",
    "\n",
    "til å vise at \n",
    "\n",
    "$$\n",
    "\\frac{\\alpha}{\\beta} = \\Big{(} \\frac{\\partial P}{\\partial T}Big{)}_V\n",
    "$$\n",
    "```"
   ]
  },
  {
   "cell_type": "code",
   "execution_count": null,
   "id": "bed5124e",
   "metadata": {},
   "outputs": [],
   "source": []
  }
 ],
 "metadata": {
  "kernelspec": {
   "display_name": "Python 3 (ipykernel)",
   "language": "python",
   "name": "python3"
  },
  "language_info": {
   "codemirror_mode": {
    "name": "ipython",
    "version": 3
   },
   "file_extension": ".py",
   "mimetype": "text/x-python",
   "name": "python",
   "nbconvert_exporter": "python",
   "pygments_lexer": "ipython3",
   "version": "3.10.6"
  }
 },
 "nbformat": 4,
 "nbformat_minor": 5
}
